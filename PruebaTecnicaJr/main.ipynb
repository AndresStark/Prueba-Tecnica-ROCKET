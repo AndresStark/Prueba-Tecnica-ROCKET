{
 "cells": [
  {
   "attachments": {},
   "cell_type": "markdown",
   "metadata": {},
   "source": [
    "## Prueba 1: Escriba un programa que determine si un año dado es un año bisiesto. Un año normal tiene 365 días, los años bisiestos tienen 366, con un día extra en febrero.\n",
    "\n",
    "Tips: Así es como se determina si un año en particular es un año bisiesto.\n",
    "En cada año que es divisible por 4\n",
    "**excepto** cada año que es divisible por 100\n",
    "**a menos que** el año también sea divisible por 400\n",
    "p.ej. El año 2000:\n",
    "2000 ÷ 4 = 500 (Bisiesto)\n",
    "2000 ÷ 100 = 20 (no bisiesto)\n",
    "2000 ÷ 400 = 5 (¡Bisiesto!)\n",
    "Así que el año 2000 es un año bisiesto.\n",
    "Pero el año 2100 no es un año bisiesto porque:\n",
    "2100 ÷ 4 = 525 (Bisiesto)\n",
    "2100 ÷ 100 = 21 (no bisiesto)\n",
    "2100 ÷ 400 = 5,25 (no bisiesto)"
   ]
  },
  {
   "cell_type": "code",
   "execution_count": null,
   "metadata": {},
   "outputs": [],
   "source": [
    "def run():\n",
    "    try:\n",
    "        año = int(input(\"Ingrese el año\"))\n",
    "        # Auxiliar para no repetir código\n",
    "        condicion = 0\n",
    "        if año > 0:\n",
    "            if año % 4 == 0:\n",
    "                condicion += 1\n",
    "                if año % 100 == 0:\n",
    "                    condicion += 1\n",
    "                    if año % 400 == 0:\n",
    "                        condicion += 1\n",
    "            if condicion == 3:\n",
    "                    print(\"¡Es bisiesto!\")\n",
    "            else:\n",
    "                print(\"No es bisiesto\")\n",
    "        else:\n",
    "            print(\"Ïngresa un año válido\")\n",
    "    except ValueError:\n",
    "        print(\"Debes ingresar un número\")\n",
    "\n",
    "\n",
    "if __name__ == '__main__':\n",
    "    run()\n",
    "\n"
   ]
  },
  {
   "attachments": {},
   "cell_type": "markdown",
   "metadata": {},
   "source": [
    "## Prueba 2: Manejo de archivos JSON."
   ]
  },
  {
   "attachments": {},
   "cell_type": "markdown",
   "metadata": {},
   "source": [
    "2.1: Imprima el objeto Json en el formato correcto en la salida de la celda."
   ]
  },
  {
   "cell_type": "code",
   "execution_count": null,
   "metadata": {},
   "outputs": [],
   "source": [
    "import json\n",
    "import pprint\n",
    " \n",
    "with open('PythonDevTestJson.json', 'r') as f:\n",
    "    data = f.read()\n",
    "    json_data = json.loads(data)\n",
    " \n",
    "pprint.pprint(json_data)"
   ]
  },
  {
   "attachments": {},
   "cell_type": "markdown",
   "metadata": {},
   "source": [
    "2.2: Obtenga el último objeto anidado dentro de la llave \"OpenPositions\"."
   ]
  },
  {
   "cell_type": "code",
   "execution_count": null,
   "metadata": {},
   "outputs": [],
   "source": [
    "import json\n",
    " \n",
    "with open('PythonDevTestJson.json', 'r') as f:\n",
    "    data = f.read()\n",
    "    json_data = json.loads(data)\n",
    "\n",
    "list = [i for i in json_data['OpenPositions'][::-1]]\n",
    "\n",
    "print(list[0])\n",
    "\n",
    "\n"
   ]
  },
  {
   "attachments": {},
   "cell_type": "markdown",
   "metadata": {},
   "source": [
    "2.3: Cree una nueva llave llamada \"Relevance\" y agregue un valor de acuerdo con una regla lógica simple. en caso de que el\n",
    "La persona en la clave \"RequestedBy\" es un ejecutivo de nivel C (CFO, CEO o comienza con C.) asigne el\n",
    "valor de “Important”, de lo contrario asigne “Normal”."
   ]
  },
  {
   "cell_type": "code",
   "execution_count": null,
   "metadata": {},
   "outputs": [],
   "source": [
    "import json\n",
    "import pprint\n",
    " \n",
    "with open('PythonDevTestJson.json', 'r') as f:\n",
    "    data = f.read()\n",
    "    json_data = json.loads(data)\n",
    "\n",
    "for i in json_data['OpenPositions']:\n",
    "    if i['RequestedBy'][:1] == 'C':\n",
    "        print(i['RequestedBy'][:1])\n",
    "        i['Relevance'] = 'Important'\n",
    "    else:\n",
    "        i['Relevance'] = 'Normal'\n",
    "\n",
    "pprint.pprint(json_data)\n",
    "\n"
   ]
  },
  {
   "attachments": {},
   "cell_type": "markdown",
   "metadata": {},
   "source": [
    "## Prueba 3:  Consume cualquier API (a tu discresión) y muestra ejemplos de como usar los métodos 'Get' y 'Post'. \n"
   ]
  },
  {
   "cell_type": "code",
   "execution_count": null,
   "metadata": {},
   "outputs": [],
   "source": [
    "# Comandos previos (Ubuntu 20.04 WSL):\n",
    "    # python3 -m venv env\n",
    "    # source env/bin/activate\n",
    "    # pip install django\n",
    "    # django-admin startproject prueba_3\n",
    "    # cd prueba_3\n",
    "    # python3 manage.py startapp prueba\n",
    "\n",
    "# Comandos al iniciar:\n",
    "    # python3 manage.py runserver\n",
    "\n",
    "# Escribir en el navegador:\n",
    "    # http://127.0.0.1:8000/prueba/\n"
   ]
  }
 ],
 "metadata": {
  "kernelspec": {
   "display_name": "Python 3",
   "language": "python",
   "name": "python3"
  },
  "language_info": {
   "codemirror_mode": {
    "name": "ipython",
    "version": 3
   },
   "file_extension": ".py",
   "mimetype": "text/x-python",
   "name": "python",
   "nbconvert_exporter": "python",
   "pygments_lexer": "ipython3",
   "version": "3.8.10"
  },
  "orig_nbformat": 4,
  "vscode": {
   "interpreter": {
    "hash": "916dbcbb3f70747c44a77c7bcd40155683ae19c65e1c03b4aa3499c5328201f1"
   }
  }
 },
 "nbformat": 4,
 "nbformat_minor": 2
}
